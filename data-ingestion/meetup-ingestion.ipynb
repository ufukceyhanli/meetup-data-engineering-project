{
 "cells": [
  {
   "cell_type": "code",
   "execution_count": null,
   "metadata": {
    "application/vnd.databricks.v1+cell": {
     "cellMetadata": {
      "byteLimit": 2048000,
      "implicitDf": true,
      "rowLimit": 10000
     },
     "inputWidgets": {},
     "nuid": "c6afddf4-f7b6-4531-85f4-68c27bb47f66",
     "showTitle": false,
     "title": ""
    }
   },
   "outputs": [],
   "source": [
    "#Function reads json files, creates a temp view and load the data to the target.\n",
    "def process_table(spark, file_path, temp_view_name, table_name):\n",
    "    # Read the JSON files and create a temporary view\n",
    "    temp_view = (spark\n",
    "                 .read\n",
    "                 .json(file_path)\n",
    "                 .createOrReplaceTempView(temp_view_name)\n",
    "                )\n",
    "    \n",
    "    # Create the table and save the data from the temporary view\n",
    "    table = (spark\n",
    "             .sql(f\"SELECT * FROM {temp_view_name}\")\n",
    "             .write\n",
    "             .mode(\"overwrite\")\n",
    "             .saveAsTable(table_name)\n",
    "            )\n",
    "\n",
    "# Processing users table\n",
    "table_params = [\n",
    "    (\"/mnt/meetup_raw/data/users*.json\", \"users_temp_view\", \"playground.ufuk_meetup_dev.users_bronze\"),\n",
    "    (\"/mnt/meetup_raw/data/groups*.json\", \"groups_temp_view\", \"playground.ufuk_meetup_dev.groups_bronze\"),\n",
    "    (\"/mnt/meetup_raw/data/venues*.json\", \"venues_temp_view\", \"playground.ufuk_meetup_dev.venues_bronze\"),\n",
    "    (\"/mnt/meetup_raw/data/events*.json\", \"events_temp_view\", \"playground.ufuk_meetup_dev.events_bronze\")\n",
    "]\n",
    "\n",
    "#Iterate\n",
    "for params in table_params:\n",
    "    process_table(spark, *params)"
   ]
  }
 ],
 "metadata": {
  "application/vnd.databricks.v1+notebook": {
   "dashboards": [],
   "language": "python",
   "notebookMetadata": {
    "mostRecentlyExecutedCommandWithImplicitDF": {
     "commandId": 3668757048087470,
     "dataframes": [
      "_sqldf"
     ]
    },
    "pythonIndentUnit": 4
   },
   "notebookName": "meetup-ingestion",
   "widgets": {}
  },
  "language_info": {
   "name": "python"
  }
 },
 "nbformat": 4,
 "nbformat_minor": 0
}
